{
  "nbformat": 4,
  "nbformat_minor": 0,
  "metadata": {
    "colab": {
      "name": "cztflinerclassfication.ipynb",
      "provenance": [],
      "authorship_tag": "ABX9TyPfWtWmRZOwwzcvR9Nod1qL",
      "include_colab_link": true
    },
    "kernelspec": {
      "name": "python3",
      "display_name": "Python 3"
    },
    "language_info": {
      "name": "python"
    }
  },
  "cells": [
    {
      "cell_type": "markdown",
      "metadata": {
        "id": "view-in-github",
        "colab_type": "text"
      },
      "source": [
        "<a href=\"https://colab.research.google.com/github/cz101/CTATrainLinesMap/blob/gh-pages/cztflinerclassfication.ipynb\" target=\"_parent\"><img src=\"https://colab.research.google.com/assets/colab-badge.svg\" alt=\"Open In Colab\"/></a>"
      ]
    },
    {
      "cell_type": "code",
      "execution_count": 4,
      "metadata": {
        "colab": {
          "base_uri": "https://localhost:8080/"
        },
        "id": "0KMFllhe7MOm",
        "outputId": "7a59c6dc-c643-43b5-ac9a-9ed60da2d6a8"
      },
      "outputs": [
        {
          "output_type": "stream",
          "name": "stdout",
          "text": [
            "2.8.2\n"
          ]
        }
      ],
      "source": [
        "import tensorflow as tf\n",
        "print(tf.__version__)"
      ]
    },
    {
      "cell_type": "code",
      "source": [
        "from sklearn.datasets import load_breast_cancer"
      ],
      "metadata": {
        "id": "oQT8Yfsj8GJ_"
      },
      "execution_count": 5,
      "outputs": []
    },
    {
      "cell_type": "code",
      "source": [
        "data = load_breast_cancer()"
      ],
      "metadata": {
        "id": "SAAMP6BQ9h_C"
      },
      "execution_count": 8,
      "outputs": []
    },
    {
      "cell_type": "code",
      "source": [
        "type(data)"
      ],
      "metadata": {
        "colab": {
          "base_uri": "https://localhost:8080/"
        },
        "id": "A5-Lrjhl9og-",
        "outputId": "fdf8e7cb-d24f-46e6-e9e3-dd8d7a8f4d33"
      },
      "execution_count": 9,
      "outputs": [
        {
          "output_type": "execute_result",
          "data": {
            "text/plain": [
              "sklearn.utils.Bunch"
            ]
          },
          "metadata": {},
          "execution_count": 9
        }
      ]
    },
    {
      "cell_type": "code",
      "source": [
        "data.keys()"
      ],
      "metadata": {
        "colab": {
          "base_uri": "https://localhost:8080/"
        },
        "id": "wvYjQ27S98bS",
        "outputId": "db1bead2-8a9e-442a-b633-6b6368488827"
      },
      "execution_count": 10,
      "outputs": [
        {
          "output_type": "execute_result",
          "data": {
            "text/plain": [
              "dict_keys(['data', 'target', 'frame', 'target_names', 'DESCR', 'feature_names', 'filename', 'data_module'])"
            ]
          },
          "metadata": {},
          "execution_count": 10
        }
      ]
    },
    {
      "cell_type": "code",
      "source": [
        "data.feature_names"
      ],
      "metadata": {
        "id": "VftFaXg3-GuM"
      },
      "execution_count": null,
      "outputs": []
    },
    {
      "cell_type": "code",
      "source": [
        "data.data.shape"
      ],
      "metadata": {
        "colab": {
          "base_uri": "https://localhost:8080/"
        },
        "id": "wbzmi7Bg_AqX",
        "outputId": "a32004de-7a96-495a-ad23-a2f36a022f62"
      },
      "execution_count": 13,
      "outputs": [
        {
          "output_type": "execute_result",
          "data": {
            "text/plain": [
              "(569, 30)"
            ]
          },
          "metadata": {},
          "execution_count": 13
        }
      ]
    },
    {
      "cell_type": "code",
      "source": [
        "print(data.target)"
      ],
      "metadata": {
        "id": "Kay_dcfV_VpM"
      },
      "execution_count": null,
      "outputs": []
    },
    {
      "cell_type": "code",
      "source": [
        "data.target_names"
      ],
      "metadata": {
        "colab": {
          "base_uri": "https://localhost:8080/"
        },
        "id": "NS6jMlw6_sXZ",
        "outputId": "7a2b9979-67f4-4ab2-bc3d-82fe0a25f638"
      },
      "execution_count": 23,
      "outputs": [
        {
          "output_type": "execute_result",
          "data": {
            "text/plain": [
              "array(['malignant', 'benign'], dtype='<U9')"
            ]
          },
          "metadata": {},
          "execution_count": 23
        }
      ]
    },
    {
      "cell_type": "markdown",
      "source": [
        ""
      ],
      "metadata": {
        "id": "-GQDyYW6UpX_"
      }
    },
    {
      "cell_type": "code",
      "source": [
        "from sklearn.model_selection import train_test_split"
      ],
      "metadata": {
        "id": "VQD0huvmUqrh"
      },
      "execution_count": 27,
      "outputs": []
    },
    {
      "cell_type": "code",
      "source": [
        "X_train, X_test, y_train,y_test = train_test_split(data.data,data.target,test_size=0.33)\n",
        "N,D = X_train.shape "
      ],
      "metadata": {
        "id": "cxzlhC6lUqp8"
      },
      "execution_count": 37,
      "outputs": []
    },
    {
      "cell_type": "code",
      "source": [
        "import sklearn\n",
        "from sklearn.preprocessing import StandardScaler\n",
        "scaler= StandardScaler()\n",
        "X_train = scaler.fit_transform(X_train)\n",
        "X_test = scaler.transform(X_test)"
      ],
      "metadata": {
        "id": "47QkIT4svVr7"
      },
      "execution_count": 30,
      "outputs": []
    },
    {
      "cell_type": "code",
      "source": [
        "model=tf.keras.models.Sequential([tf.keras.layers.Input(shape=(D,)),\n",
        "                                  tf.keras.layers.Dense(1,activation='sigmoid')\n",
        "                                ])\n"
      ],
      "metadata": {
        "id": "GGufNMJrx7K1"
      },
      "execution_count": 32,
      "outputs": []
    },
    {
      "cell_type": "code",
      "source": [
        "model.compile(optimizer='adam',loss='binary_crossentropy',metrics=['accuracy'])"
      ],
      "metadata": {
        "id": "W3b7Jr7Hx7JE"
      },
      "execution_count": 36,
      "outputs": []
    },
    {
      "cell_type": "code",
      "source": [
        "r= model.fit(X_train,y_train,validation_data=(X_test,y_test),epochs=100)"
      ],
      "metadata": {
        "colab": {
          "base_uri": "https://localhost:8080/"
        },
        "id": "Kpe8gJ0z0H1t",
        "outputId": "4d2710ea-0a7b-4f63-ee49-a56391792d7c"
      },
      "execution_count": 39,
      "outputs": [
        {
          "output_type": "stream",
          "name": "stdout",
          "text": [
            "Epoch 1/100\n",
            "12/12 [==============================] - 1s 29ms/step - loss: 138.8750 - accuracy: 0.6247 - val_loss: 140.2200 - val_accuracy: 0.6330\n",
            "Epoch 2/100\n",
            "12/12 [==============================] - 0s 8ms/step - loss: 126.8771 - accuracy: 0.6247 - val_loss: 127.2505 - val_accuracy: 0.6330\n",
            "Epoch 3/100\n",
            "12/12 [==============================] - 0s 7ms/step - loss: 114.6313 - accuracy: 0.6247 - val_loss: 114.5097 - val_accuracy: 0.6330\n",
            "Epoch 4/100\n",
            "12/12 [==============================] - 0s 7ms/step - loss: 102.4022 - accuracy: 0.6247 - val_loss: 101.8578 - val_accuracy: 0.6330\n",
            "Epoch 5/100\n",
            "12/12 [==============================] - 0s 9ms/step - loss: 90.7106 - accuracy: 0.6247 - val_loss: 88.8698 - val_accuracy: 0.6330\n",
            "Epoch 6/100\n",
            "12/12 [==============================] - 0s 7ms/step - loss: 78.6254 - accuracy: 0.6247 - val_loss: 76.1222 - val_accuracy: 0.6330\n",
            "Epoch 7/100\n",
            "12/12 [==============================] - 0s 7ms/step - loss: 66.4682 - accuracy: 0.6247 - val_loss: 63.5682 - val_accuracy: 0.6330\n",
            "Epoch 8/100\n",
            "12/12 [==============================] - 0s 7ms/step - loss: 54.7091 - accuracy: 0.6247 - val_loss: 50.7405 - val_accuracy: 0.6330\n",
            "Epoch 9/100\n",
            "12/12 [==============================] - 0s 7ms/step - loss: 42.4059 - accuracy: 0.6247 - val_loss: 38.2209 - val_accuracy: 0.6330\n",
            "Epoch 10/100\n",
            "12/12 [==============================] - 0s 7ms/step - loss: 30.5633 - accuracy: 0.6115 - val_loss: 25.5643 - val_accuracy: 0.6277\n",
            "Epoch 11/100\n",
            "12/12 [==============================] - 0s 7ms/step - loss: 19.1677 - accuracy: 0.5827 - val_loss: 13.4572 - val_accuracy: 0.5479\n",
            "Epoch 12/100\n",
            "12/12 [==============================] - 0s 7ms/step - loss: 9.8213 - accuracy: 0.5118 - val_loss: 6.7744 - val_accuracy: 0.4043\n",
            "Epoch 13/100\n",
            "12/12 [==============================] - 0s 7ms/step - loss: 6.9074 - accuracy: 0.3701 - val_loss: 6.4711 - val_accuracy: 0.3298\n",
            "Epoch 14/100\n",
            "12/12 [==============================] - 0s 6ms/step - loss: 6.8608 - accuracy: 0.3333 - val_loss: 6.1349 - val_accuracy: 0.3351\n",
            "Epoch 15/100\n",
            "12/12 [==============================] - 0s 9ms/step - loss: 6.3990 - accuracy: 0.3753 - val_loss: 5.8370 - val_accuracy: 0.3617\n",
            "Epoch 16/100\n",
            "12/12 [==============================] - 0s 7ms/step - loss: 6.1270 - accuracy: 0.3963 - val_loss: 5.6407 - val_accuracy: 0.3936\n",
            "Epoch 17/100\n",
            "12/12 [==============================] - 0s 8ms/step - loss: 5.9076 - accuracy: 0.4016 - val_loss: 5.4089 - val_accuracy: 0.4096\n",
            "Epoch 18/100\n",
            "12/12 [==============================] - 0s 8ms/step - loss: 5.6837 - accuracy: 0.4042 - val_loss: 5.1928 - val_accuracy: 0.4096\n",
            "Epoch 19/100\n",
            "12/12 [==============================] - 0s 7ms/step - loss: 5.4633 - accuracy: 0.4173 - val_loss: 4.9712 - val_accuracy: 0.4149\n",
            "Epoch 20/100\n",
            "12/12 [==============================] - 0s 7ms/step - loss: 5.2612 - accuracy: 0.4252 - val_loss: 4.7613 - val_accuracy: 0.4309\n",
            "Epoch 21/100\n",
            "12/12 [==============================] - 0s 12ms/step - loss: 5.0433 - accuracy: 0.4304 - val_loss: 4.5467 - val_accuracy: 0.4362\n",
            "Epoch 22/100\n",
            "12/12 [==============================] - 0s 7ms/step - loss: 4.8146 - accuracy: 0.4409 - val_loss: 4.3492 - val_accuracy: 0.4574\n",
            "Epoch 23/100\n",
            "12/12 [==============================] - 0s 6ms/step - loss: 4.6635 - accuracy: 0.4593 - val_loss: 4.1683 - val_accuracy: 0.4681\n",
            "Epoch 24/100\n",
            "12/12 [==============================] - 0s 8ms/step - loss: 4.4880 - accuracy: 0.4514 - val_loss: 3.9779 - val_accuracy: 0.4468\n",
            "Epoch 25/100\n",
            "12/12 [==============================] - 0s 7ms/step - loss: 4.2120 - accuracy: 0.4646 - val_loss: 3.7890 - val_accuracy: 0.4734\n",
            "Epoch 26/100\n",
            "12/12 [==============================] - 0s 7ms/step - loss: 4.0247 - accuracy: 0.4803 - val_loss: 3.6298 - val_accuracy: 0.4947\n",
            "Epoch 27/100\n",
            "12/12 [==============================] - 0s 7ms/step - loss: 3.8594 - accuracy: 0.4882 - val_loss: 3.4489 - val_accuracy: 0.4947\n",
            "Epoch 28/100\n",
            "12/12 [==============================] - 0s 7ms/step - loss: 3.6725 - accuracy: 0.4908 - val_loss: 3.2744 - val_accuracy: 0.4787\n",
            "Epoch 29/100\n",
            "12/12 [==============================] - 0s 8ms/step - loss: 3.4860 - accuracy: 0.4987 - val_loss: 3.1154 - val_accuracy: 0.5106\n",
            "Epoch 30/100\n",
            "12/12 [==============================] - 0s 8ms/step - loss: 3.3334 - accuracy: 0.5066 - val_loss: 2.9555 - val_accuracy: 0.5160\n",
            "Epoch 31/100\n",
            "12/12 [==============================] - 0s 9ms/step - loss: 3.1772 - accuracy: 0.5249 - val_loss: 2.8345 - val_accuracy: 0.5585\n",
            "Epoch 32/100\n",
            "12/12 [==============================] - 0s 7ms/step - loss: 2.9902 - accuracy: 0.5328 - val_loss: 2.6693 - val_accuracy: 0.5691\n",
            "Epoch 33/100\n",
            "12/12 [==============================] - 0s 8ms/step - loss: 2.8398 - accuracy: 0.5381 - val_loss: 2.5442 - val_accuracy: 0.5904\n",
            "Epoch 34/100\n",
            "12/12 [==============================] - 0s 7ms/step - loss: 2.6982 - accuracy: 0.5486 - val_loss: 2.4207 - val_accuracy: 0.5904\n",
            "Epoch 35/100\n",
            "12/12 [==============================] - 0s 6ms/step - loss: 2.5687 - accuracy: 0.5564 - val_loss: 2.3089 - val_accuracy: 0.6064\n",
            "Epoch 36/100\n",
            "12/12 [==============================] - 0s 7ms/step - loss: 2.4376 - accuracy: 0.5722 - val_loss: 2.2054 - val_accuracy: 0.6117\n",
            "Epoch 37/100\n",
            "12/12 [==============================] - 0s 7ms/step - loss: 2.3170 - accuracy: 0.5853 - val_loss: 2.1071 - val_accuracy: 0.6277\n",
            "Epoch 38/100\n",
            "12/12 [==============================] - 0s 7ms/step - loss: 2.1972 - accuracy: 0.6063 - val_loss: 2.0205 - val_accuracy: 0.6330\n",
            "Epoch 39/100\n",
            "12/12 [==============================] - 0s 7ms/step - loss: 2.0853 - accuracy: 0.6168 - val_loss: 1.9303 - val_accuracy: 0.6383\n",
            "Epoch 40/100\n",
            "12/12 [==============================] - 0s 7ms/step - loss: 1.9918 - accuracy: 0.6194 - val_loss: 1.8452 - val_accuracy: 0.6330\n",
            "Epoch 41/100\n",
            "12/12 [==============================] - 0s 7ms/step - loss: 1.8977 - accuracy: 0.6352 - val_loss: 1.7707 - val_accuracy: 0.6596\n",
            "Epoch 42/100\n",
            "12/12 [==============================] - 0s 8ms/step - loss: 1.8159 - accuracy: 0.6430 - val_loss: 1.6947 - val_accuracy: 0.6489\n",
            "Epoch 43/100\n",
            "12/12 [==============================] - 0s 8ms/step - loss: 1.7246 - accuracy: 0.6457 - val_loss: 1.6341 - val_accuracy: 0.6915\n",
            "Epoch 44/100\n",
            "12/12 [==============================] - 0s 7ms/step - loss: 1.6776 - accuracy: 0.6667 - val_loss: 1.5766 - val_accuracy: 0.7074\n",
            "Epoch 45/100\n",
            "12/12 [==============================] - 0s 7ms/step - loss: 1.5820 - accuracy: 0.6693 - val_loss: 1.5175 - val_accuracy: 0.7021\n",
            "Epoch 46/100\n",
            "12/12 [==============================] - 0s 7ms/step - loss: 1.5207 - accuracy: 0.6850 - val_loss: 1.4749 - val_accuracy: 0.7394\n",
            "Epoch 47/100\n",
            "12/12 [==============================] - 0s 7ms/step - loss: 1.4667 - accuracy: 0.6877 - val_loss: 1.4207 - val_accuracy: 0.7340\n",
            "Epoch 48/100\n",
            "12/12 [==============================] - 0s 8ms/step - loss: 1.4176 - accuracy: 0.6903 - val_loss: 1.3722 - val_accuracy: 0.7394\n",
            "Epoch 49/100\n",
            "12/12 [==============================] - 0s 7ms/step - loss: 1.3806 - accuracy: 0.7323 - val_loss: 1.3563 - val_accuracy: 0.7553\n",
            "Epoch 50/100\n",
            "12/12 [==============================] - 0s 7ms/step - loss: 1.3772 - accuracy: 0.6955 - val_loss: 1.2862 - val_accuracy: 0.7340\n",
            "Epoch 51/100\n",
            "12/12 [==============================] - 0s 6ms/step - loss: 1.2518 - accuracy: 0.7244 - val_loss: 1.2688 - val_accuracy: 0.7500\n",
            "Epoch 52/100\n",
            "12/12 [==============================] - 0s 9ms/step - loss: 1.2289 - accuracy: 0.7533 - val_loss: 1.2463 - val_accuracy: 0.7660\n",
            "Epoch 53/100\n",
            "12/12 [==============================] - 0s 8ms/step - loss: 1.1765 - accuracy: 0.7507 - val_loss: 1.1869 - val_accuracy: 0.7660\n",
            "Epoch 54/100\n",
            "12/12 [==============================] - 0s 8ms/step - loss: 1.1866 - accuracy: 0.7349 - val_loss: 1.1507 - val_accuracy: 0.7713\n",
            "Epoch 55/100\n",
            "12/12 [==============================] - 0s 7ms/step - loss: 1.1077 - accuracy: 0.7612 - val_loss: 1.1428 - val_accuracy: 0.7872\n",
            "Epoch 56/100\n",
            "12/12 [==============================] - 0s 7ms/step - loss: 1.0848 - accuracy: 0.7743 - val_loss: 1.1271 - val_accuracy: 0.7926\n",
            "Epoch 57/100\n",
            "12/12 [==============================] - 0s 8ms/step - loss: 1.0571 - accuracy: 0.7743 - val_loss: 1.0694 - val_accuracy: 0.7926\n",
            "Epoch 58/100\n",
            "12/12 [==============================] - 0s 15ms/step - loss: 1.0185 - accuracy: 0.7769 - val_loss: 1.0627 - val_accuracy: 0.8138\n",
            "Epoch 59/100\n",
            "12/12 [==============================] - 0s 18ms/step - loss: 1.0036 - accuracy: 0.7848 - val_loss: 1.0463 - val_accuracy: 0.8191\n",
            "Epoch 60/100\n",
            "12/12 [==============================] - 0s 10ms/step - loss: 0.9791 - accuracy: 0.7874 - val_loss: 1.0023 - val_accuracy: 0.8138\n",
            "Epoch 61/100\n",
            "12/12 [==============================] - 0s 4ms/step - loss: 0.9538 - accuracy: 0.7848 - val_loss: 0.9914 - val_accuracy: 0.8191\n",
            "Epoch 62/100\n",
            "12/12 [==============================] - 0s 4ms/step - loss: 0.9416 - accuracy: 0.8005 - val_loss: 1.0007 - val_accuracy: 0.8245\n",
            "Epoch 63/100\n",
            "12/12 [==============================] - 0s 6ms/step - loss: 0.9226 - accuracy: 0.8110 - val_loss: 0.9643 - val_accuracy: 0.8298\n",
            "Epoch 64/100\n",
            "12/12 [==============================] - 0s 5ms/step - loss: 0.8975 - accuracy: 0.7979 - val_loss: 0.9430 - val_accuracy: 0.8298\n",
            "Epoch 65/100\n",
            "12/12 [==============================] - 0s 6ms/step - loss: 0.8883 - accuracy: 0.7979 - val_loss: 0.9227 - val_accuracy: 0.8298\n",
            "Epoch 66/100\n",
            "12/12 [==============================] - 0s 6ms/step - loss: 0.8732 - accuracy: 0.8058 - val_loss: 0.9281 - val_accuracy: 0.8351\n",
            "Epoch 67/100\n",
            "12/12 [==============================] - 0s 5ms/step - loss: 0.8649 - accuracy: 0.8136 - val_loss: 0.8903 - val_accuracy: 0.8351\n",
            "Epoch 68/100\n",
            "12/12 [==============================] - 0s 4ms/step - loss: 0.8443 - accuracy: 0.8136 - val_loss: 0.9074 - val_accuracy: 0.8404\n",
            "Epoch 69/100\n",
            "12/12 [==============================] - 0s 5ms/step - loss: 0.8324 - accuracy: 0.8215 - val_loss: 0.8827 - val_accuracy: 0.8351\n",
            "Epoch 70/100\n",
            "12/12 [==============================] - 0s 5ms/step - loss: 0.8291 - accuracy: 0.8163 - val_loss: 0.8494 - val_accuracy: 0.8351\n",
            "Epoch 71/100\n",
            "12/12 [==============================] - 0s 5ms/step - loss: 0.8108 - accuracy: 0.8268 - val_loss: 0.8549 - val_accuracy: 0.8457\n",
            "Epoch 72/100\n",
            "12/12 [==============================] - 0s 5ms/step - loss: 0.8011 - accuracy: 0.8346 - val_loss: 0.8514 - val_accuracy: 0.8511\n",
            "Epoch 73/100\n",
            "12/12 [==============================] - 0s 4ms/step - loss: 0.7971 - accuracy: 0.8294 - val_loss: 0.8196 - val_accuracy: 0.8351\n",
            "Epoch 74/100\n",
            "12/12 [==============================] - 0s 5ms/step - loss: 0.7886 - accuracy: 0.8294 - val_loss: 0.8494 - val_accuracy: 0.8457\n",
            "Epoch 75/100\n",
            "12/12 [==============================] - 0s 4ms/step - loss: 0.7712 - accuracy: 0.8451 - val_loss: 0.8058 - val_accuracy: 0.8457\n",
            "Epoch 76/100\n",
            "12/12 [==============================] - 0s 6ms/step - loss: 0.7816 - accuracy: 0.8346 - val_loss: 0.7876 - val_accuracy: 0.8457\n",
            "Epoch 77/100\n",
            "12/12 [==============================] - 0s 4ms/step - loss: 0.7639 - accuracy: 0.8504 - val_loss: 0.8262 - val_accuracy: 0.8617\n",
            "Epoch 78/100\n",
            "12/12 [==============================] - 0s 4ms/step - loss: 0.7481 - accuracy: 0.8478 - val_loss: 0.7726 - val_accuracy: 0.8511\n",
            "Epoch 79/100\n",
            "12/12 [==============================] - 0s 5ms/step - loss: 0.7385 - accuracy: 0.8399 - val_loss: 0.7697 - val_accuracy: 0.8564\n",
            "Epoch 80/100\n",
            "12/12 [==============================] - 0s 5ms/step - loss: 0.7338 - accuracy: 0.8583 - val_loss: 0.7734 - val_accuracy: 0.8723\n",
            "Epoch 81/100\n",
            "12/12 [==============================] - 0s 4ms/step - loss: 0.7219 - accuracy: 0.8556 - val_loss: 0.7442 - val_accuracy: 0.8511\n",
            "Epoch 82/100\n",
            "12/12 [==============================] - 0s 4ms/step - loss: 0.7197 - accuracy: 0.8451 - val_loss: 0.7445 - val_accuracy: 0.8617\n",
            "Epoch 83/100\n",
            "12/12 [==============================] - 0s 6ms/step - loss: 0.7184 - accuracy: 0.8661 - val_loss: 0.7551 - val_accuracy: 0.8670\n",
            "Epoch 84/100\n",
            "12/12 [==============================] - 0s 4ms/step - loss: 0.7098 - accuracy: 0.8609 - val_loss: 0.7163 - val_accuracy: 0.8511\n",
            "Epoch 85/100\n",
            "12/12 [==============================] - 0s 4ms/step - loss: 0.6989 - accuracy: 0.8635 - val_loss: 0.7253 - val_accuracy: 0.8723\n",
            "Epoch 86/100\n",
            "12/12 [==============================] - 0s 4ms/step - loss: 0.6918 - accuracy: 0.8661 - val_loss: 0.7220 - val_accuracy: 0.8723\n",
            "Epoch 87/100\n",
            "12/12 [==============================] - 0s 4ms/step - loss: 0.6901 - accuracy: 0.8688 - val_loss: 0.7046 - val_accuracy: 0.8670\n",
            "Epoch 88/100\n",
            "12/12 [==============================] - 0s 5ms/step - loss: 0.6841 - accuracy: 0.8688 - val_loss: 0.7044 - val_accuracy: 0.8723\n",
            "Epoch 89/100\n",
            "12/12 [==============================] - 0s 6ms/step - loss: 0.6789 - accuracy: 0.8740 - val_loss: 0.6847 - val_accuracy: 0.8723\n",
            "Epoch 90/100\n",
            "12/12 [==============================] - 0s 4ms/step - loss: 0.6721 - accuracy: 0.8714 - val_loss: 0.6822 - val_accuracy: 0.8723\n",
            "Epoch 91/100\n",
            "12/12 [==============================] - 0s 6ms/step - loss: 0.6732 - accuracy: 0.8766 - val_loss: 0.6894 - val_accuracy: 0.8670\n",
            "Epoch 92/100\n",
            "12/12 [==============================] - 0s 5ms/step - loss: 0.6602 - accuracy: 0.8793 - val_loss: 0.6570 - val_accuracy: 0.8670\n",
            "Epoch 93/100\n",
            "12/12 [==============================] - 0s 4ms/step - loss: 0.6605 - accuracy: 0.8740 - val_loss: 0.6723 - val_accuracy: 0.8670\n",
            "Epoch 94/100\n",
            "12/12 [==============================] - 0s 5ms/step - loss: 0.6640 - accuracy: 0.8714 - val_loss: 0.6476 - val_accuracy: 0.8723\n",
            "Epoch 95/100\n",
            "12/12 [==============================] - 0s 4ms/step - loss: 0.6495 - accuracy: 0.8766 - val_loss: 0.6729 - val_accuracy: 0.8670\n",
            "Epoch 96/100\n",
            "12/12 [==============================] - 0s 6ms/step - loss: 0.6535 - accuracy: 0.8766 - val_loss: 0.6346 - val_accuracy: 0.8723\n",
            "Epoch 97/100\n",
            "12/12 [==============================] - 0s 5ms/step - loss: 0.6378 - accuracy: 0.8793 - val_loss: 0.6484 - val_accuracy: 0.8670\n",
            "Epoch 98/100\n",
            "12/12 [==============================] - 0s 5ms/step - loss: 0.6352 - accuracy: 0.8793 - val_loss: 0.6458 - val_accuracy: 0.8723\n",
            "Epoch 99/100\n",
            "12/12 [==============================] - 0s 4ms/step - loss: 0.6290 - accuracy: 0.8740 - val_loss: 0.6227 - val_accuracy: 0.8777\n",
            "Epoch 100/100\n",
            "12/12 [==============================] - 0s 5ms/step - loss: 0.6261 - accuracy: 0.8714 - val_loss: 0.6145 - val_accuracy: 0.8723\n"
          ]
        }
      ]
    },
    {
      "cell_type": "code",
      "source": [
        "print(\"Train score:\",model.evaluate(X_train,y_train))\n",
        "print(\"Test score:\",model.evaluate(X_test,y_test))"
      ],
      "metadata": {
        "colab": {
          "base_uri": "https://localhost:8080/"
        },
        "id": "FpfroRGK0HiI",
        "outputId": "1db6e10a-1567-442d-b8b8-4e7bf757b566"
      },
      "execution_count": 40,
      "outputs": [
        {
          "output_type": "stream",
          "name": "stdout",
          "text": [
            "12/12 [==============================] - 0s 3ms/step - loss: 0.6215 - accuracy: 0.8740\n",
            "Train score: [0.6214832663536072, 0.874015748500824]\n",
            "6/6 [==============================] - 0s 3ms/step - loss: 0.6145 - accuracy: 0.8723\n",
            "Test score: [0.6145105361938477, 0.8723404407501221]\n"
          ]
        }
      ]
    },
    {
      "cell_type": "code",
      "source": [
        "import matplotlib.pyplot as plt\n",
        "plt.plot(r.history['loss'],label='loss')\n",
        "plt.plot(r.history['val_loss'],label='v_loss')\n",
        "plt.legend()"
      ],
      "metadata": {
        "colab": {
          "base_uri": "https://localhost:8080/",
          "height": 283
        },
        "id": "9CIkog1r1Vrv",
        "outputId": "89b972cd-4f61-4cf6-fabf-65eb66f6a480"
      },
      "execution_count": 41,
      "outputs": [
        {
          "output_type": "execute_result",
          "data": {
            "text/plain": [
              "<matplotlib.legend.Legend at 0x7f86575b7710>"
            ]
          },
          "metadata": {},
          "execution_count": 41
        },
        {
          "output_type": "display_data",
          "data": {
            "text/plain": [
              "<Figure size 432x288 with 1 Axes>"
            ],
            "image/png": "[encoded data removed]"
          },
          "metadata": {
            "needs_background": "light"
          }
        }
      ]
    },
    {
      "cell_type": "code",
      "source": [
        ""
      ],
      "metadata": {
        "id": "tuuETV4s1VqK"
      },
      "execution_count": null,
      "outputs": []
    },
    {
      "cell_type": "code",
      "source": [
        "\n",
        "plt.plot(r.history['accuracy'],label='accuracy')\n",
        "plt.plot(r.history['val_accuracy'],label='v_accuracy')\n",
        "plt.legend()"
      ],
      "metadata": {
        "colab": {
          "base_uri": "https://localhost:8080/",
          "height": 285
        },
        "outputId": "c1822141-8694-453e-dddd-0a49c6c0f577",
        "id": "pIs34gIt2kTN"
      },
      "execution_count": 43,
      "outputs": [
        {
          "output_type": "execute_result",
          "data": {
            "text/plain": [
              "<matplotlib.legend.Legend at 0x7f8659930c50>"
            ]
          },
          "metadata": {},
          "execution_count": 43
        },
        {
          "output_type": "display_data",
          "data": {
            "text/plain": [
              "<Figure size 432x288 with 1 Axes>"
            ],
            "image/png": "[encoded data removed]"
          },
          "metadata": {
            "needs_background": "light"
          }
        }
      ]
    }
  ]
}